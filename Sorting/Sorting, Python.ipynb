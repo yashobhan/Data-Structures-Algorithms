{
 "cells": [
  {
   "cell_type": "code",
   "execution_count": 2,
   "metadata": {},
   "outputs": [],
   "source": [
    "import random"
   ]
  },
  {
   "cell_type": "code",
   "execution_count": 78,
   "metadata": {},
   "outputs": [
    {
     "data": {
      "text/plain": [
       "10"
      ]
     },
     "execution_count": 78,
     "metadata": {},
     "output_type": "execute_result"
    }
   ],
   "source": [
    "list_of_numbers = list(set(random.sample(range(10), 10)))\n",
    "random.shuffle(list_of_numbers)\n",
    "len(list_of_numbers)"
   ]
  },
  {
   "cell_type": "markdown",
   "metadata": {},
   "source": [
    "# Bubble Sort (Optimized)\n",
    "\n",
    "We iterate over a list, compare elements in pairs (think sliding window of size 2) and swap them until the larger elements are at the end of the list.\n",
    "\n",
    "#### Time complexity:\n",
    "- Best case: O(n) (List is already sorted)\n",
    "    - One pass through n elemts in the list, but no swapping since elements are already sorted\n",
    "- Worst case: O(n^2)\n",
    "    - If a list is reverse sorted, it would have to swap every single element in the list. We would do n iterations for n elements in the list"
   ]
  },
  {
   "cell_type": "code",
   "execution_count": 79,
   "metadata": {},
   "outputs": [],
   "source": [
    "def bubble_sort(numbers):\n",
    "    \n",
    "    swapped = True\n",
    "    \n",
    "    while swapped:\n",
    "        swapped = False\n",
    "        for i in range(len(numbers) - 1):\n",
    "            if numbers[i] > numbers[i + 1]:\n",
    "                numbers[i], numbers[i + 1] = numbers[i + 1], numbers[i]\n",
    "                swapped = True\n",
    "            \n",
    "    return numbers"
   ]
  },
  {
   "cell_type": "code",
   "execution_count": 80,
   "metadata": {},
   "outputs": [
    {
     "name": "stdout",
     "output_type": "stream",
     "text": [
      "Wall time: 0 ns\n"
     ]
    },
    {
     "data": {
      "text/plain": [
       "[0, 1, 2, 3, 4, 5, 6, 7, 8, 9]"
      ]
     },
     "execution_count": 80,
     "metadata": {},
     "output_type": "execute_result"
    }
   ],
   "source": [
    "%%time\n",
    "bubble_sorted = bubble_sort(list_of_numbers.copy())\n",
    "bubble_sorted[:15] ## Printing the first 15 elements"
   ]
  },
  {
   "cell_type": "markdown",
   "metadata": {},
   "source": [
    "# Selection sort\n",
    "\n",
    "This algorithm segments a list into two segments - unsorted and sorted. We iteratively remove the smallest element from the unsorted list and append it to the sorted segment.\n",
    "\n",
    "#### Time complexity:\n",
    "- Worst case: O(n^2)"
   ]
  },
  {
   "cell_type": "code",
   "execution_count": 109,
   "metadata": {},
   "outputs": [],
   "source": [
    "def selection_sort(numbers):\n",
    "    print('Initial list: ', numbers)\n",
    "    for i in range(len(numbers)):\n",
    "        \n",
    "        lowest_value_index = i\n",
    "        print('Current lowest value index: ', lowest_value_index)\n",
    "        \n",
    "        for j in range(i+1, len(numbers)):\n",
    "            print('Current number: ', numbers[j])\n",
    "            if numbers[j] < numbers[lowest_value_index]:\n",
    "                lowest_value_index = j\n",
    "                print('New lowest value index: ', lowest_value_index)\n",
    "                print('--------')\n",
    "        numbers[i], numbers[lowest_value_index] = numbers[lowest_value_index], numbers[i]\n",
    "        print('List so far: ', numbers)\n",
    "        print('*******************')\n",
    "        \n",
    "    return numbers"
   ]
  },
  {
   "cell_type": "code",
   "execution_count": 110,
   "metadata": {},
   "outputs": [
    {
     "name": "stdout",
     "output_type": "stream",
     "text": [
      "Initial list:  [2, 6, 9, 3, 0, 7, 1, 4, 5, 8]\n",
      "Current lowest value index:  0\n",
      "Current number:  6\n",
      "Current number:  9\n",
      "Current number:  3\n",
      "Current number:  0\n",
      "New lowest value index:  4\n",
      "--------\n",
      "Current number:  7\n",
      "Current number:  1\n",
      "Current number:  4\n",
      "Current number:  5\n",
      "Current number:  8\n",
      "List so far:  [0, 6, 9, 3, 2, 7, 1, 4, 5, 8]\n",
      "*******************\n",
      "Current lowest value index:  1\n",
      "Current number:  9\n",
      "Current number:  3\n",
      "New lowest value index:  3\n",
      "--------\n",
      "Current number:  2\n",
      "New lowest value index:  4\n",
      "--------\n",
      "Current number:  7\n",
      "Current number:  1\n",
      "New lowest value index:  6\n",
      "--------\n",
      "Current number:  4\n",
      "Current number:  5\n",
      "Current number:  8\n",
      "List so far:  [0, 1, 9, 3, 2, 7, 6, 4, 5, 8]\n",
      "*******************\n",
      "Current lowest value index:  2\n",
      "Current number:  3\n",
      "New lowest value index:  3\n",
      "--------\n",
      "Current number:  2\n",
      "New lowest value index:  4\n",
      "--------\n",
      "Current number:  7\n",
      "Current number:  6\n",
      "Current number:  4\n",
      "Current number:  5\n",
      "Current number:  8\n",
      "List so far:  [0, 1, 2, 3, 9, 7, 6, 4, 5, 8]\n",
      "*******************\n",
      "Current lowest value index:  3\n",
      "Current number:  9\n",
      "Current number:  7\n",
      "Current number:  6\n",
      "Current number:  4\n",
      "Current number:  5\n",
      "Current number:  8\n",
      "List so far:  [0, 1, 2, 3, 9, 7, 6, 4, 5, 8]\n",
      "*******************\n",
      "Current lowest value index:  4\n",
      "Current number:  7\n",
      "New lowest value index:  5\n",
      "--------\n",
      "Current number:  6\n",
      "New lowest value index:  6\n",
      "--------\n",
      "Current number:  4\n",
      "New lowest value index:  7\n",
      "--------\n",
      "Current number:  5\n",
      "Current number:  8\n",
      "List so far:  [0, 1, 2, 3, 4, 7, 6, 9, 5, 8]\n",
      "*******************\n",
      "Current lowest value index:  5\n",
      "Current number:  6\n",
      "New lowest value index:  6\n",
      "--------\n",
      "Current number:  9\n",
      "Current number:  5\n",
      "New lowest value index:  8\n",
      "--------\n",
      "Current number:  8\n",
      "List so far:  [0, 1, 2, 3, 4, 5, 6, 9, 7, 8]\n",
      "*******************\n",
      "Current lowest value index:  6\n",
      "Current number:  9\n",
      "Current number:  7\n",
      "Current number:  8\n",
      "List so far:  [0, 1, 2, 3, 4, 5, 6, 9, 7, 8]\n",
      "*******************\n",
      "Current lowest value index:  7\n",
      "Current number:  7\n",
      "New lowest value index:  8\n",
      "--------\n",
      "Current number:  8\n",
      "List so far:  [0, 1, 2, 3, 4, 5, 6, 7, 9, 8]\n",
      "*******************\n",
      "Current lowest value index:  8\n",
      "Current number:  8\n",
      "New lowest value index:  9\n",
      "--------\n",
      "List so far:  [0, 1, 2, 3, 4, 5, 6, 7, 8, 9]\n",
      "*******************\n",
      "Current lowest value index:  9\n",
      "List so far:  [0, 1, 2, 3, 4, 5, 6, 7, 8, 9]\n",
      "*******************\n"
     ]
    },
    {
     "data": {
      "text/plain": [
       "[0, 1, 2, 3, 4, 5, 6, 7, 8, 9]"
      ]
     },
     "execution_count": 110,
     "metadata": {},
     "output_type": "execute_result"
    }
   ],
   "source": [
    "selection_sort(list_of_numbers.copy())"
   ]
  },
  {
   "cell_type": "markdown",
   "metadata": {},
   "source": [
    "# Insertion sort\n",
    "\n",
    "Its not the best, but its still better than bubble sort and selection sort. \n",
    "\n",
    "We divide the list into two parts - sorted & unsorted. We pick one element at a time from the unsorted list and \"insert\" it into the sorted list (which is initially empty). \n",
    "\n",
    "We assume that the first element in the unsorted list is sorted. We go to the next element (call it E) , if it is larger than the first element, we leave it as it is, otherwise we set it as the first element and we move the (initially) first element to the second position. \n",
    "\n",
    "We iteratively move larger elements from the unsorted list towards the end of the sorted list, until we encounter an element smaller than (E) or we reach the end of the sorted list, then place (E) in its correct position.\n",
    "\n",
    "#### Time complexity:\n",
    "- Worst case: O(n^2)\n",
    "    - The list is sorted in reverse order initially\n",
    "- Best case: O(n)\n",
    "    - The list is already sorted"
   ]
  },
  {
   "cell_type": "code",
   "execution_count": 111,
   "metadata": {},
   "outputs": [],
   "source": [
    "def insertion_sort(numbers):\n",
    "    for idx in range(1, len(numbers)):\n",
    "        \n",
    "        current_number = numbers[idx]\n",
    "        prev_index = idx - 1\n",
    "        \n",
    "        print('Current  number: ', current_number)\n",
    "        print('Prev index: ', prev_index)\n",
    "        \n",
    "        while prev_index >= 0 and numbers[prev_index] > current_number:\n",
    "            numbers[prev_index + 1] = numbers[prev_index]\n",
    "            print('Number of prev index: ', numbers[prev_index])\n",
    "            prev_index -= 1\n",
    "            print('New prev index: ', prev_index)\n",
    "            print('------')\n",
    "        numbers[prev_index + 1] = current_number\n",
    "        print('List so far: ', numbers)\n",
    "        print('********************')\n",
    "    return numbers"
   ]
  },
  {
   "cell_type": "code",
   "execution_count": 112,
   "metadata": {},
   "outputs": [
    {
     "data": {
      "text/plain": [
       "[2, 6, 9, 3, 0, 7, 1, 4, 5, 8]"
      ]
     },
     "execution_count": 112,
     "metadata": {},
     "output_type": "execute_result"
    }
   ],
   "source": [
    "list_of_numbers"
   ]
  },
  {
   "cell_type": "code",
   "execution_count": 113,
   "metadata": {},
   "outputs": [
    {
     "name": "stdout",
     "output_type": "stream",
     "text": [
      "Current  number:  6\n",
      "Prev index:  0\n",
      "List so far:  [2, 6, 9, 3, 0, 7, 1, 4, 5, 8]\n",
      "********************\n",
      "Current  number:  9\n",
      "Prev index:  1\n",
      "List so far:  [2, 6, 9, 3, 0, 7, 1, 4, 5, 8]\n",
      "********************\n",
      "Current  number:  3\n",
      "Prev index:  2\n",
      "Number of prev index:  9\n",
      "New prev index:  1\n",
      "------\n",
      "Number of prev index:  6\n",
      "New prev index:  0\n",
      "------\n",
      "List so far:  [2, 3, 6, 9, 0, 7, 1, 4, 5, 8]\n",
      "********************\n",
      "Current  number:  0\n",
      "Prev index:  3\n",
      "Number of prev index:  9\n",
      "New prev index:  2\n",
      "------\n",
      "Number of prev index:  6\n",
      "New prev index:  1\n",
      "------\n",
      "Number of prev index:  3\n",
      "New prev index:  0\n",
      "------\n",
      "Number of prev index:  2\n",
      "New prev index:  -1\n",
      "------\n",
      "List so far:  [0, 2, 3, 6, 9, 7, 1, 4, 5, 8]\n",
      "********************\n",
      "Current  number:  7\n",
      "Prev index:  4\n",
      "Number of prev index:  9\n",
      "New prev index:  3\n",
      "------\n",
      "List so far:  [0, 2, 3, 6, 7, 9, 1, 4, 5, 8]\n",
      "********************\n",
      "Current  number:  1\n",
      "Prev index:  5\n",
      "Number of prev index:  9\n",
      "New prev index:  4\n",
      "------\n",
      "Number of prev index:  7\n",
      "New prev index:  3\n",
      "------\n",
      "Number of prev index:  6\n",
      "New prev index:  2\n",
      "------\n",
      "Number of prev index:  3\n",
      "New prev index:  1\n",
      "------\n",
      "Number of prev index:  2\n",
      "New prev index:  0\n",
      "------\n",
      "List so far:  [0, 1, 2, 3, 6, 7, 9, 4, 5, 8]\n",
      "********************\n",
      "Current  number:  4\n",
      "Prev index:  6\n",
      "Number of prev index:  9\n",
      "New prev index:  5\n",
      "------\n",
      "Number of prev index:  7\n",
      "New prev index:  4\n",
      "------\n",
      "Number of prev index:  6\n",
      "New prev index:  3\n",
      "------\n",
      "List so far:  [0, 1, 2, 3, 4, 6, 7, 9, 5, 8]\n",
      "********************\n",
      "Current  number:  5\n",
      "Prev index:  7\n",
      "Number of prev index:  9\n",
      "New prev index:  6\n",
      "------\n",
      "Number of prev index:  7\n",
      "New prev index:  5\n",
      "------\n",
      "Number of prev index:  6\n",
      "New prev index:  4\n",
      "------\n",
      "List so far:  [0, 1, 2, 3, 4, 5, 6, 7, 9, 8]\n",
      "********************\n",
      "Current  number:  8\n",
      "Prev index:  8\n",
      "Number of prev index:  9\n",
      "New prev index:  7\n",
      "------\n",
      "List so far:  [0, 1, 2, 3, 4, 5, 6, 7, 8, 9]\n",
      "********************\n",
      "Wall time: 5.98 ms\n"
     ]
    },
    {
     "data": {
      "text/plain": [
       "[0, 1, 2, 3, 4, 5, 6, 7, 8, 9]"
      ]
     },
     "execution_count": 113,
     "metadata": {},
     "output_type": "execute_result"
    }
   ],
   "source": [
    "%%time\n",
    "insertion_sorted = insertion_sort(list_of_numbers.copy())\n",
    "insertion_sorted[:15]"
   ]
  },
  {
   "cell_type": "markdown",
   "metadata": {},
   "source": []
  }
 ],
 "metadata": {
  "kernelspec": {
   "display_name": "Python 3",
   "language": "python",
   "name": "python3"
  },
  "language_info": {
   "codemirror_mode": {
    "name": "ipython",
    "version": 3
   },
   "file_extension": ".py",
   "mimetype": "text/x-python",
   "name": "python",
   "nbconvert_exporter": "python",
   "pygments_lexer": "ipython3",
   "version": "3.7.9"
  }
 },
 "nbformat": 4,
 "nbformat_minor": 4
}
